{
 "cells": [
  {
   "cell_type": "code",
   "execution_count": 24,
   "metadata": {},
   "outputs": [],
   "source": [
    "import pandas as pd"
   ]
  },
  {
   "cell_type": "code",
   "execution_count": 56,
   "metadata": {},
   "outputs": [
    {
     "name": "stderr",
     "output_type": "stream",
     "text": [
      "/var/folders/h1/0858kwcj3q9dmgv6nwdz9m540000gp/T/ipykernel_42183/65486929.py:1: DtypeWarning: Columns (36,46,48,64) have mixed types. Specify dtype option on import or set low_memory=False.\n",
      "  active = pd.read_csv('/Users/albert/code/bankgreen-django/datasource/local/usnic/CSV_ATTRIBUTES_ACTIVE.CSV')[0:100]\n"
     ]
    }
   ],
   "source": [
    "active = pd.read_csv('/Users/albert/code/bankgreen-django/datasource/local/usnic/CSV_ATTRIBUTES_ACTIVE.CSV')[0:100]\n",
    "active.to_csv('/Users/albert/code/bankgreen-django/datasource/local/usnic/CSV_ATTRIBUTES_ACTIVE_ABRIDGED.CSV')\n",
    "rssds = [x for x in active[\"#ID_RSSD\"].unique()]"
   ]
  },
  {
   "cell_type": "code",
   "execution_count": 52,
   "metadata": {},
   "outputs": [
    {
     "data": {
      "text/plain": [
       "100"
      ]
     },
     "execution_count": 52,
     "metadata": {},
     "output_type": "execute_result"
    }
   ],
   "source": [
    "len(rssds)"
   ]
  },
  {
   "cell_type": "code",
   "execution_count": 53,
   "metadata": {},
   "outputs": [
    {
     "name": "stderr",
     "output_type": "stream",
     "text": [
      "/var/folders/h1/0858kwcj3q9dmgv6nwdz9m540000gp/T/ipykernel_42183/2704325541.py:1: DtypeWarning: Columns (20,46,64,65,71,72) have mixed types. Specify dtype option on import or set low_memory=False.\n",
      "  branches = pd.read_csv('/Users/albert/code/bankgreen-django/datasource/local/usnic/CSV_ATTRIBUTES_BRANCHES.CSV')\n"
     ]
    }
   ],
   "source": [
    "branches = pd.read_csv('/Users/albert/code/bankgreen-django/datasource/local/usnic/CSV_ATTRIBUTES_BRANCHES.CSV')"
   ]
  },
  {
   "cell_type": "code",
   "execution_count": 54,
   "metadata": {},
   "outputs": [],
   "source": [
    "branches_abridged = branches[branches[\"ID_RSSD_HD_OFF\"].isin(rssds)]\n",
    "branches_abridged.to_csv('/Users/albert/code/bankgreen-django/datasource/local/usnic/CSV_ATTRIBUTES_BRANCHES_ABRIDGED.CSV')"
   ]
  },
  {
   "cell_type": "code",
   "execution_count": 28,
   "metadata": {},
   "outputs": [],
   "source": [
    "# Find out whether control exists between multiple banks or just one in the relationship dataset\n"
   ]
  },
  {
   "cell_type": "code",
   "execution_count": 55,
   "metadata": {},
   "outputs": [],
   "source": [
    "rels = pd.read_csv('/Users/albert/code/bankgreen-django/datasource/local/usnic/CSV_RELATIONSHIPS.CSV')\n",
    "# rssds = [x for x in active[\"#ID_RSSD\"].unique()]"
   ]
  },
  {
   "cell_type": "code",
   "execution_count": 29,
   "metadata": {},
   "outputs": [
    {
     "name": "stderr",
     "output_type": "stream",
     "text": [
      "/var/folders/h1/0858kwcj3q9dmgv6nwdz9m540000gp/T/ipykernel_42183/657867106.py:2: UserWarning: Boolean Series key will be reindexed to match DataFrame index.\n",
      "  controlled_active = controlled_all[rels[\"DT_END\"] == 99991231]\n"
     ]
    }
   ],
   "source": [
    "controlled_all = rels[rels[\"CTRL_IND\"] == 1]\n",
    "controlled_active = controlled_all[rels[\"DT_END\"] == 99991231]"
   ]
  },
  {
   "cell_type": "code",
   "execution_count": 30,
   "metadata": {},
   "outputs": [],
   "source": [
    "controlled_children = controlled_active[\"ID_RSSD_OFFSPRING\"]"
   ]
  },
  {
   "cell_type": "code",
   "execution_count": 31,
   "metadata": {},
   "outputs": [],
   "source": [
    "duplicated_controlled = [x for x in controlled_children[controlled_children.duplicated(keep=False)]]"
   ]
  },
  {
   "cell_type": "code",
   "execution_count": 32,
   "metadata": {},
   "outputs": [],
   "source": [
    "dual_control = controlled_active[controlled_active[\"ID_RSSD_OFFSPRING\"].isin(duplicated_controlled)].sort_values(by=[\"ID_RSSD_OFFSPRING\", \"#ID_RSSD_PARENT\"])\n",
    "\n",
    "# duplicated.sort_values(by=[\"ID_RSSD_OFFSPRING\", \"#ID_RSSD_PARENT\"])"
   ]
  },
  {
   "cell_type": "markdown",
   "metadata": {},
   "source": []
  },
  {
   "cell_type": "code",
   "execution_count": 33,
   "metadata": {},
   "outputs": [
    {
     "data": {
      "text/html": [
       "<div>\n",
       "<style scoped>\n",
       "    .dataframe tbody tr th:only-of-type {\n",
       "        vertical-align: middle;\n",
       "    }\n",
       "\n",
       "    .dataframe tbody tr th {\n",
       "        vertical-align: top;\n",
       "    }\n",
       "\n",
       "    .dataframe thead th {\n",
       "        text-align: right;\n",
       "    }\n",
       "</style>\n",
       "<table border=\"1\" class=\"dataframe\">\n",
       "  <thead>\n",
       "    <tr style=\"text-align: right;\">\n",
       "      <th></th>\n",
       "      <th>#ID_RSSD_PARENT</th>\n",
       "      <th>ID_RSSD_OFFSPRING</th>\n",
       "      <th>EQUITY_IND</th>\n",
       "      <th>OTHER_BASIS_IND</th>\n",
       "      <th>PCT_EQUITY</th>\n",
       "      <th>RELN_LVL</th>\n",
       "      <th>REGK_INV</th>\n",
       "    </tr>\n",
       "  </thead>\n",
       "  <tbody>\n",
       "    <tr>\n",
       "      <th>257267</th>\n",
       "      <td>4759669</td>\n",
       "      <td>936462</td>\n",
       "      <td>1</td>\n",
       "      <td>0</td>\n",
       "      <td>40.0</td>\n",
       "      <td>1</td>\n",
       "      <td>0</td>\n",
       "    </tr>\n",
       "    <tr>\n",
       "      <th>266208</th>\n",
       "      <td>5375459</td>\n",
       "      <td>936462</td>\n",
       "      <td>1</td>\n",
       "      <td>0</td>\n",
       "      <td>45.0</td>\n",
       "      <td>1</td>\n",
       "      <td>0</td>\n",
       "    </tr>\n",
       "    <tr>\n",
       "      <th>158942</th>\n",
       "      <td>2492485</td>\n",
       "      <td>1080652</td>\n",
       "      <td>1</td>\n",
       "      <td>0</td>\n",
       "      <td>54.0</td>\n",
       "      <td>1</td>\n",
       "      <td>0</td>\n",
       "    </tr>\n",
       "    <tr>\n",
       "      <th>213779</th>\n",
       "      <td>3793219</td>\n",
       "      <td>1080652</td>\n",
       "      <td>1</td>\n",
       "      <td>0</td>\n",
       "      <td>29.0</td>\n",
       "      <td>1</td>\n",
       "      <td>0</td>\n",
       "    </tr>\n",
       "    <tr>\n",
       "      <th>143043</th>\n",
       "      <td>1975075</td>\n",
       "      <td>1103766</td>\n",
       "      <td>1</td>\n",
       "      <td>0</td>\n",
       "      <td>36.0</td>\n",
       "      <td>1</td>\n",
       "      <td>0</td>\n",
       "    </tr>\n",
       "    <tr>\n",
       "      <th>...</th>\n",
       "      <td>...</td>\n",
       "      <td>...</td>\n",
       "      <td>...</td>\n",
       "      <td>...</td>\n",
       "      <td>...</td>\n",
       "      <td>...</td>\n",
       "      <td>...</td>\n",
       "    </tr>\n",
       "    <tr>\n",
       "      <th>223512</th>\n",
       "      <td>3943470</td>\n",
       "      <td>5807558</td>\n",
       "      <td>2</td>\n",
       "      <td>1</td>\n",
       "      <td>0.0</td>\n",
       "      <td>1</td>\n",
       "      <td>0</td>\n",
       "    </tr>\n",
       "    <tr>\n",
       "      <th>273572</th>\n",
       "      <td>5807530</td>\n",
       "      <td>5807558</td>\n",
       "      <td>0</td>\n",
       "      <td>1</td>\n",
       "      <td>0.0</td>\n",
       "      <td>1</td>\n",
       "      <td>0</td>\n",
       "    </tr>\n",
       "    <tr>\n",
       "      <th>269605</th>\n",
       "      <td>5556968</td>\n",
       "      <td>5807615</td>\n",
       "      <td>2</td>\n",
       "      <td>1</td>\n",
       "      <td>0.0</td>\n",
       "      <td>1</td>\n",
       "      <td>0</td>\n",
       "    </tr>\n",
       "    <tr>\n",
       "      <th>269618</th>\n",
       "      <td>5557031</td>\n",
       "      <td>5807615</td>\n",
       "      <td>0</td>\n",
       "      <td>1</td>\n",
       "      <td>0.0</td>\n",
       "      <td>1</td>\n",
       "      <td>0</td>\n",
       "    </tr>\n",
       "    <tr>\n",
       "      <th>272796</th>\n",
       "      <td>5733433</td>\n",
       "      <td>5807615</td>\n",
       "      <td>0</td>\n",
       "      <td>1</td>\n",
       "      <td>0.0</td>\n",
       "      <td>1</td>\n",
       "      <td>0</td>\n",
       "    </tr>\n",
       "  </tbody>\n",
       "</table>\n",
       "<p>4319 rows × 7 columns</p>\n",
       "</div>"
      ],
      "text/plain": [
       "        #ID_RSSD_PARENT  ID_RSSD_OFFSPRING  EQUITY_IND  OTHER_BASIS_IND  \\\n",
       "257267          4759669             936462           1                0   \n",
       "266208          5375459             936462           1                0   \n",
       "158942          2492485            1080652           1                0   \n",
       "213779          3793219            1080652           1                0   \n",
       "143043          1975075            1103766           1                0   \n",
       "...                 ...                ...         ...              ...   \n",
       "223512          3943470            5807558           2                1   \n",
       "273572          5807530            5807558           0                1   \n",
       "269605          5556968            5807615           2                1   \n",
       "269618          5557031            5807615           0                1   \n",
       "272796          5733433            5807615           0                1   \n",
       "\n",
       "        PCT_EQUITY  RELN_LVL  REGK_INV  \n",
       "257267        40.0         1         0  \n",
       "266208        45.0         1         0  \n",
       "158942        54.0         1         0  \n",
       "213779        29.0         1         0  \n",
       "143043        36.0         1         0  \n",
       "...            ...       ...       ...  \n",
       "223512         0.0         1         0  \n",
       "273572         0.0         1         0  \n",
       "269605         0.0         1         0  \n",
       "269618         0.0         1         0  \n",
       "272796         0.0         1         0  \n",
       "\n",
       "[4319 rows x 7 columns]"
      ]
     },
     "execution_count": 33,
     "metadata": {},
     "output_type": "execute_result"
    }
   ],
   "source": [
    "dual_control[[\"#ID_RSSD_PARENT\", \"ID_RSSD_OFFSPRING\", \"EQUITY_IND\", \"OTHER_BASIS_IND\", \"PCT_EQUITY\", \"RELN_LVL\", \"REGK_INV\"]]"
   ]
  },
  {
   "cell_type": "code",
   "execution_count": 34,
   "metadata": {},
   "outputs": [
    {
     "data": {
      "text/plain": [
       "Index(['#ID_RSSD_PARENT', 'ID_RSSD_OFFSPRING', 'D_DT_START', 'RELN_LVL',\n",
       "       'CTRL_IND', 'D_DT_RELN_EST', 'EQUITY_IND', 'OTHER_BASIS_IND',\n",
       "       'PCT_EQUITY', 'PCT_OTHER', 'REASON_ROW_CRTD', 'REASON_TERM_RELN',\n",
       "       'REG_IND', 'PCT_EQUITY_BRACKET', 'PCT_EQUITY_FORMAT', 'D_DT_END',\n",
       "       'MB_COST', 'FC_IND', 'REGK_INV', 'DT_END', 'DT_RELN_EST', 'DT_START'],\n",
       "      dtype='object')"
      ]
     },
     "execution_count": 34,
     "metadata": {},
     "output_type": "execute_result"
    }
   ],
   "source": [
    "dual_control.columns"
   ]
  },
  {
   "cell_type": "code",
   "execution_count": 23,
   "metadata": {},
   "outputs": [
    {
     "data": {
      "text/html": [
       "<div>\n",
       "<style scoped>\n",
       "    .dataframe tbody tr th:only-of-type {\n",
       "        vertical-align: middle;\n",
       "    }\n",
       "\n",
       "    .dataframe tbody tr th {\n",
       "        vertical-align: top;\n",
       "    }\n",
       "\n",
       "    .dataframe thead th {\n",
       "        text-align: right;\n",
       "    }\n",
       "</style>\n",
       "<table border=\"1\" class=\"dataframe\">\n",
       "  <thead>\n",
       "    <tr style=\"text-align: right;\">\n",
       "      <th></th>\n",
       "      <th>#ID_RSSD</th>\n",
       "      <th>D_DT_START</th>\n",
       "      <th>D_DT_END</th>\n",
       "      <th>BHC_IND</th>\n",
       "      <th>BROAD_REG_CD</th>\n",
       "      <th>CHTR_AUTH_CD</th>\n",
       "      <th>CHTR_TYPE_CD</th>\n",
       "      <th>FBO_4C9_IND</th>\n",
       "      <th>FHC_IND</th>\n",
       "      <th>FUNC_REG</th>\n",
       "      <th>...</th>\n",
       "      <th>URL</th>\n",
       "      <th>SLHC_IND</th>\n",
       "      <th>SLHC_TYPE_IND</th>\n",
       "      <th>PRIM_FED_REG</th>\n",
       "      <th>STATE_INC_CD</th>\n",
       "      <th>CNTRY_INC_CD</th>\n",
       "      <th>STATE_INC_ABBR_NM</th>\n",
       "      <th>CNTRY_INC_NM</th>\n",
       "      <th>ID_LEI</th>\n",
       "      <th>IHC_IND</th>\n",
       "    </tr>\n",
       "  </thead>\n",
       "  <tbody>\n",
       "    <tr>\n",
       "      <th>22174</th>\n",
       "      <td>2492485</td>\n",
       "      <td>01/01/2018 00:00:00</td>\n",
       "      <td>12/31/9999 00:00:00</td>\n",
       "      <td>1</td>\n",
       "      <td>3</td>\n",
       "      <td>0</td>\n",
       "      <td>500</td>\n",
       "      <td>0</td>\n",
       "      <td>1</td>\n",
       "      <td>0</td>\n",
       "      <td>...</td>\n",
       "      <td>WWW.CBTN.COM</td>\n",
       "      <td>0</td>\n",
       "      <td>0</td>\n",
       "      <td>FRS</td>\n",
       "      <td>47</td>\n",
       "      <td>0</td>\n",
       "      <td>TN</td>\n",
       "      <td>NaN</td>\n",
       "      <td>0</td>\n",
       "      <td>0</td>\n",
       "    </tr>\n",
       "  </tbody>\n",
       "</table>\n",
       "<p>1 rows × 75 columns</p>\n",
       "</div>"
      ],
      "text/plain": [
       "       #ID_RSSD           D_DT_START             D_DT_END  BHC_IND  \\\n",
       "22174   2492485  01/01/2018 00:00:00  12/31/9999 00:00:00        1   \n",
       "\n",
       "       BROAD_REG_CD  CHTR_AUTH_CD  CHTR_TYPE_CD  FBO_4C9_IND  FHC_IND  \\\n",
       "22174             3             0           500            0        1   \n",
       "\n",
       "       FUNC_REG  ...           URL  SLHC_IND  SLHC_TYPE_IND  PRIM_FED_REG  \\\n",
       "22174         0  ...  WWW.CBTN.COM         0              0           FRS   \n",
       "\n",
       "       STATE_INC_CD  CNTRY_INC_CD  STATE_INC_ABBR_NM CNTRY_INC_NM ID_LEI  \\\n",
       "22174            47             0                 TN          NaN      0   \n",
       "\n",
       "       IHC_IND  \n",
       "22174        0  \n",
       "\n",
       "[1 rows x 75 columns]"
      ]
     },
     "execution_count": 23,
     "metadata": {},
     "output_type": "execute_result"
    }
   ],
   "source": [
    "active[active[\"#ID_RSSD\"] == 2492485]"
   ]
  },
  {
   "attachments": {},
   "cell_type": "markdown",
   "metadata": {},
   "source": [
    "# get just relationships where offspring is in the active abridged file"
   ]
  },
  {
   "cell_type": "code",
   "execution_count": 57,
   "metadata": {},
   "outputs": [],
   "source": [
    "# rssds\n",
    "active_abridged  = pd.read_csv('/Users/albert/code/bankgreen-django/datasource/local/usnic/CSV_ATTRIBUTES_ACTIVE_ABRIDGED.CSV')\n",
    "rssds_abridged = [x for x in active[\"#ID_RSSD\"].unique()]\n",
    "rels_abridged = rels[rels[\"ID_RSSD_OFFSPRING\"].isin(rssds_abridged)]"
   ]
  },
  {
   "cell_type": "code",
   "execution_count": 58,
   "metadata": {},
   "outputs": [
    {
     "data": {
      "text/plain": [
       "100"
      ]
     },
     "execution_count": 58,
     "metadata": {},
     "output_type": "execute_result"
    }
   ],
   "source": [
    "len(rssds_abridged)"
   ]
  },
  {
   "cell_type": "code",
   "execution_count": 62,
   "metadata": {},
   "outputs": [
    {
     "data": {
      "text/plain": [
       "(100, 22)"
      ]
     },
     "execution_count": 62,
     "metadata": {},
     "output_type": "execute_result"
    }
   ],
   "source": [
    "rels_abridged.shape"
   ]
  },
  {
   "cell_type": "code",
   "execution_count": 64,
   "metadata": {},
   "outputs": [],
   "source": [
    "rels_abridged.to_csv('/Users/albert/code/bankgreen-django/datasource/local/usnic/CSV_RELATIONSHIPS_ABRIDGED.CSV')"
   ]
  },
  {
   "attachments": {},
   "cell_type": "markdown",
   "metadata": {},
   "source": [
    "# delete"
   ]
  },
  {
   "cell_type": "code",
   "execution_count": 82,
   "metadata": {},
   "outputs": [],
   "source": [
    "abridged = pd.read_csv('/Users/albert/code/bankgreen-django/datasource/local/usnic/CSV_ATTRIBUTES_ACTIVE_ABRIDGED.CSV')"
   ]
  },
  {
   "cell_type": "markdown",
   "metadata": {},
   "source": []
  },
  {
   "cell_type": "code",
   "execution_count": 90,
   "metadata": {},
   "outputs": [],
   "source": [
    "rssds = abridged[\"#ID_RSSD\"].unique()"
   ]
  },
  {
   "cell_type": "code",
   "execution_count": 93,
   "metadata": {},
   "outputs": [],
   "source": [
    "# pd.options.display.max_columns = 100\n",
    "rels_abridged = rels[rels[\"ID_RSSD_OFFSPRING\"].isin(rssds)]\n",
    "rels_abridged.to_csv('/Users/albert/code/bankgreen-django/datasource/local/usnic/CSV_RELATIONSHIPS_ABRIDGED.CSV')"
   ]
  },
  {
   "cell_type": "code",
   "execution_count": 91,
   "metadata": {},
   "outputs": [
    {
     "data": {
      "text/plain": [
       "100"
      ]
     },
     "execution_count": 91,
     "metadata": {},
     "output_type": "execute_result"
    }
   ],
   "source": [
    "len(rssds)"
   ]
  },
  {
   "cell_type": "code",
   "execution_count": 97,
   "metadata": {},
   "outputs": [
    {
     "data": {
      "text/plain": [
       "array([ 1155,   505,   505, 42457, 14650, 14650, 14650, 14650,  1454,\n",
       "       14753, 14753, 14753, 14753, 72258, 72258, 72258, 72258,  1155,\n",
       "        1856, 42420, 29636, 29636, 29636, 29636, 31255, 31255, 42448,\n",
       "       58757, 30650, 30650, 30650, 30650, 30650, 30650, 30650, 30650,\n",
       "       16551, 16551, 57451, 57451, 57451,   457,   457,   457, 43052,\n",
       "       43052, 43052, 58355, 58355, 28732, 28732, 43959, 43959, 58225,\n",
       "       56548,  2161,  2161, 31134, 30052, 30810, 30810, 58243, 58243,\n",
       "       58243, 58243,  1155,  1155,  1155, 58243, 71457, 56717, 30810,\n",
       "       58551, 58757, 58757,  1669,  1669, 58636, 30052, 30502, 14865,\n",
       "       30052,  2161, 31255, 43351, 43959,   242,   279, 43351, 43351,\n",
       "       43351, 71073, 71073, 30810, 71859, 70638, 58355, 30650, 43351,\n",
       "         279])"
      ]
     },
     "execution_count": 97,
     "metadata": {},
     "output_type": "execute_result"
    }
   ],
   "source": [
    "rels_abridged[\"ID_RSSD_OFFSPRING\"].values"
   ]
  },
  {
   "cell_type": "code",
   "execution_count": null,
   "metadata": {},
   "outputs": [],
   "source": []
  },
  {
   "cell_type": "code",
   "execution_count": null,
   "metadata": {},
   "outputs": [],
   "source": []
  }
 ],
 "metadata": {
  "kernelspec": {
   "display_name": "Python 3.10.8 ('bankgreen-django')",
   "language": "python",
   "name": "python3"
  },
  "language_info": {
   "codemirror_mode": {
    "name": "ipython",
    "version": 3
   },
   "file_extension": ".py",
   "mimetype": "text/x-python",
   "name": "python",
   "nbconvert_exporter": "python",
   "pygments_lexer": "ipython3",
   "version": "3.10.8"
  },
  "orig_nbformat": 4,
  "vscode": {
   "interpreter": {
    "hash": "2c20095a3f1a282bf044fe180c7eececd8471b0b14eadb3ef8331fd0a540a773"
   }
  }
 },
 "nbformat": 4,
 "nbformat_minor": 2
}
